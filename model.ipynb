{
 "cells": [
  {
   "cell_type": "code",
   "execution_count": 2,
   "metadata": {},
   "outputs": [],
   "source": [
    "import pandas as pd\n",
    "import numpy as np\n",
    "import os"
   ]
  },
  {
   "cell_type": "code",
   "execution_count": 3,
   "metadata": {},
   "outputs": [],
   "source": [
    "ORIG_DATA_DIR = \"data/\""
   ]
  },
  {
   "cell_type": "code",
   "execution_count": 4,
   "metadata": {},
   "outputs": [
    {
     "name": "stderr",
     "output_type": "stream",
     "text": [
      "/Users/collin/anaconda3/lib/python3.6/site-packages/IPython/core/interactiveshell.py:2785: DtypeWarning: Columns (1,5,7,8) have mixed types. Specify dtype option on import or set low_memory=False.\n",
      "  interactivity=interactivity, compiler=compiler, result=result)\n"
     ]
    }
   ],
   "source": [
    "# Merges original data (excluding metadata)\n",
    "sales_data = pd.DataFrame()\n",
    "\n",
    "for data_file in os.listdir(ORIG_DATA_DIR):\n",
    "    sales_data = sales_data.append(pd.read_csv(ORIG_DATA_DIR + data_file))"
   ]
  },
  {
   "cell_type": "code",
   "execution_count": 7,
   "metadata": {},
   "outputs": [
    {
     "data": {
      "text/plain": [
       "GEO.id                   object\n",
       "GEO.id2                  object\n",
       "GEO.display-label        object\n",
       "NAICS.id                 object\n",
       "NAICS.display-label      object\n",
       "RCPSZFE.id               object\n",
       "RCPSZFE.display-label    object\n",
       "YEAR.id                  object\n",
       "ESTAB                    object\n",
       "dtype: object"
      ]
     },
     "execution_count": 7,
     "metadata": {},
     "output_type": "execute_result"
    }
   ],
   "source": [
    "sales_data.dtypes"
   ]
  },
  {
   "cell_type": "code",
   "execution_count": 5,
   "metadata": {},
   "outputs": [
    {
     "data": {
      "text/html": [
       "<div>\n",
       "<style scoped>\n",
       "    .dataframe tbody tr th:only-of-type {\n",
       "        vertical-align: middle;\n",
       "    }\n",
       "\n",
       "    .dataframe tbody tr th {\n",
       "        vertical-align: top;\n",
       "    }\n",
       "\n",
       "    .dataframe thead th {\n",
       "        text-align: right;\n",
       "    }\n",
       "</style>\n",
       "<table border=\"1\" class=\"dataframe\">\n",
       "  <thead>\n",
       "    <tr style=\"text-align: right;\">\n",
       "      <th></th>\n",
       "      <th>GEO.id</th>\n",
       "      <th>GEO.id2</th>\n",
       "      <th>GEO.display-label</th>\n",
       "      <th>NAICS.id</th>\n",
       "      <th>NAICS.display-label</th>\n",
       "      <th>RCPSZFE.id</th>\n",
       "      <th>RCPSZFE.display-label</th>\n",
       "      <th>YEAR.id</th>\n",
       "      <th>ESTAB</th>\n",
       "    </tr>\n",
       "  </thead>\n",
       "  <tbody>\n",
       "    <tr>\n",
       "      <th>count</th>\n",
       "      <td>4873361</td>\n",
       "      <td>4873361</td>\n",
       "      <td>4873361</td>\n",
       "      <td>4873361</td>\n",
       "      <td>4873361</td>\n",
       "      <td>4873361</td>\n",
       "      <td>4873361</td>\n",
       "      <td>4873361</td>\n",
       "      <td>4873361</td>\n",
       "    </tr>\n",
       "    <tr>\n",
       "      <th>unique</th>\n",
       "      <td>29113</td>\n",
       "      <td>29119</td>\n",
       "      <td>29113</td>\n",
       "      <td>168</td>\n",
       "      <td>106</td>\n",
       "      <td>19</td>\n",
       "      <td>9</td>\n",
       "      <td>3</td>\n",
       "      <td>696</td>\n",
       "    </tr>\n",
       "    <tr>\n",
       "      <th>top</th>\n",
       "      <td>8610000US11211</td>\n",
       "      <td>11211</td>\n",
       "      <td>ZIP 11211 (Brooklyn, NY)</td>\n",
       "      <td>44-45</td>\n",
       "      <td>Retail trade</td>\n",
       "      <td>1</td>\n",
       "      <td>All establishments</td>\n",
       "      <td>2012</td>\n",
       "      <td>1</td>\n",
       "    </tr>\n",
       "    <tr>\n",
       "      <th>freq</th>\n",
       "      <td>866</td>\n",
       "      <td>866</td>\n",
       "      <td>866</td>\n",
       "      <td>166487</td>\n",
       "      <td>166487</td>\n",
       "      <td>1183064</td>\n",
       "      <td>1288554</td>\n",
       "      <td>4480145</td>\n",
       "      <td>2480630</td>\n",
       "    </tr>\n",
       "  </tbody>\n",
       "</table>\n",
       "</div>"
      ],
      "text/plain": [
       "                GEO.id  GEO.id2         GEO.display-label NAICS.id  \\\n",
       "count          4873361  4873361                   4873361  4873361   \n",
       "unique           29113    29119                     29113      168   \n",
       "top     8610000US11211    11211  ZIP 11211 (Brooklyn, NY)    44-45   \n",
       "freq               866      866                       866   166487   \n",
       "\n",
       "       NAICS.display-label  RCPSZFE.id RCPSZFE.display-label  YEAR.id    ESTAB  \n",
       "count              4873361     4873361               4873361  4873361  4873361  \n",
       "unique                 106          19                     9        3      696  \n",
       "top           Retail trade           1    All establishments     2012        1  \n",
       "freq                166487     1183064               1288554  4480145  2480630  "
      ]
     },
     "execution_count": 5,
     "metadata": {},
     "output_type": "execute_result"
    }
   ],
   "source": [
    "sales_data.describe()"
   ]
  },
  {
   "cell_type": "code",
   "execution_count": 11,
   "metadata": {},
   "outputs": [
    {
     "data": {
      "text/plain": [
       "array(['Sales, receipts, or revenue size of establishments operated the entire year code: Meaning of Sales, receipts, or revenue size of establishments operated the entire year code',\n",
       "       '1: All establishments',\n",
       "       '2: Establishments operated for the entire year',\n",
       "       '114: Establishments operated entire year with sales/receipts/revenue less than $100,000',\n",
       "       '123: Establishments operated entire year with sales/receipts/revenue of $100,000 to $249,999',\n",
       "       '125: Establishments operated entire year with sales/receipts/revenue of $250,000 to $499,999',\n",
       "       '131: Establishments operated entire year with sales/receipts/revenue of $500,000 to $999,999',\n",
       "       '132: Establishments operated entire year with sales/receipts/revenue of $1,000,000 or more',\n",
       "       '998: Establishments not operated for the entire year',\n",
       "       '001: All establishments',\n",
       "       '002: Establishments operated for the entire year'], dtype=object)"
      ]
     },
     "execution_count": 11,
     "metadata": {},
     "output_type": "execute_result"
    }
   ],
   "source": [
    "unique_sales = (sales_data[\"RCPSZFE.id\"].astype(str) + \": \" + sales_data[\"RCPSZFE.display-label\"].astype(str)).unique()\n",
    "unique_sales"
   ]
  },
  {
   "cell_type": "code",
   "execution_count": 12,
   "metadata": {},
   "outputs": [
    {
     "data": {
      "text/plain": [
       "array(['2012 NAICS code: Meaning of 2012 NAICS code',\n",
       "       '44-45: Retail trade', '441: Motor vehicle and parts dealers',\n",
       "       '4411: Automobile dealers', '44112: Used car dealers',\n",
       "       '441120: Used car dealers', '4412: Other motor vehicle dealers',\n",
       "       '44122: Motorcycle, boat, and other motor vehicle dealers',\n",
       "       '441228: Motorcycle, ATV, and all other motor vehicle dealers',\n",
       "       '4413: Automotive parts, accessories, and tire stores',\n",
       "       '44131: Automotive parts and accessories stores',\n",
       "       '441310: Automotive parts and accessories stores',\n",
       "       '44132: Tire dealers', '441320: Tire dealers',\n",
       "       '442: Furniture and home furnishings stores',\n",
       "       '4421: Furniture stores', '44211: Furniture stores',\n",
       "       '442110: Furniture stores', '4422: Home furnishings stores',\n",
       "       '44229: Other home furnishings stores',\n",
       "       '442299: All other home furnishings stores',\n",
       "       '443: Electronics and appliance stores',\n",
       "       '4431: Electronics and appliance stores',\n",
       "       '44314: Electronics and appliance stores',\n",
       "       '443142: Electronics stores',\n",
       "       '444: Building material and garden equipment and supplies dealers',\n",
       "       '4441: Building material and supplies dealers',\n",
       "       '44413: Hardware stores', '444130: Hardware stores',\n",
       "       '44419: Other building material dealers',\n",
       "       '444190: Other building material dealers',\n",
       "       '4442: Lawn and garden equipment and supplies stores',\n",
       "       '44421: Outdoor power equipment stores',\n",
       "       '444210: Outdoor power equipment stores',\n",
       "       '445: Food and beverage stores', '4451: Grocery stores',\n",
       "       '44511: Supermarkets and other grocery (except convenience) stores',\n",
       "       '445110: Supermarkets and other grocery (except convenience) stores',\n",
       "       '44512: Convenience stores', '445120: Convenience stores',\n",
       "       '4453: Beer, wine, and liquor stores',\n",
       "       '44531: Beer, wine, and liquor stores',\n",
       "       '445310: Beer, wine, and liquor stores',\n",
       "       '446: Health and personal care stores',\n",
       "       '4461: Health and personal care stores',\n",
       "       '44611: Pharmacies and drug stores',\n",
       "       '446110: Pharmacies and drug stores',\n",
       "       '44612: Cosmetics, beauty supplies, and perfume stores',\n",
       "       '446120: Cosmetics, beauty supplies, and perfume stores',\n",
       "       '44619: Other health and personal care stores',\n",
       "       '446199: All other health and personal care stores',\n",
       "       '447: Gasoline stations', '4471: Gasoline stations',\n",
       "       '44711: Gasoline stations with convenience stores',\n",
       "       '447110: Gasoline stations with convenience stores',\n",
       "       '44719: Other gasoline stations',\n",
       "       '447190: Other gasoline stations',\n",
       "       '448: Clothing and clothing accessories stores',\n",
       "       '4481: Clothing stores', \"44812: Women's clothing stores\",\n",
       "       \"448120: Women's clothing stores\", '44814: Family clothing stores',\n",
       "       '448140: Family clothing stores',\n",
       "       '44815: Clothing accessories stores',\n",
       "       '448150: Clothing accessories stores', '4482: Shoe stores',\n",
       "       '44821: Shoe stores', '448210: Shoe stores',\n",
       "       '451: Sporting goods, hobby, musical instrument, and book stores',\n",
       "       '4511: Sporting goods, hobby, and musical instrument stores',\n",
       "       '45111: Sporting goods stores', '451110: Sporting goods stores',\n",
       "       '45114: Musical instrument and supplies stores',\n",
       "       '451140: Musical instrument and supplies stores',\n",
       "       '4512: Book stores and news dealers',\n",
       "       '45121: Book stores and news dealers', '451211: Book stores',\n",
       "       '452: General merchandise stores', '4521: Department stores',\n",
       "       '45211: Department stores', '452112: Discount department stores',\n",
       "       '4529: Other general merchandise stores',\n",
       "       '45299: All other general merchandise stores',\n",
       "       '452990: All other general merchandise stores',\n",
       "       '453: Miscellaneous store retailers', '4531: Florists',\n",
       "       '45311: Florists', '453110: Florists',\n",
       "       '4532: Office supplies, stationery, and gift stores',\n",
       "       '45321: Office supplies and stationery stores',\n",
       "       '453210: Office supplies and stationery stores',\n",
       "       '45322: Gift, novelty, and souvenir stores',\n",
       "       '453220: Gift, novelty, and souvenir stores',\n",
       "       '4533: Used merchandise stores', '45331: Used merchandise stores',\n",
       "       '453310: Used merchandise stores',\n",
       "       '4539: Other miscellaneous store retailers',\n",
       "       '45399: All other miscellaneous store retailers',\n",
       "       '453991: Tobacco stores', '454: Nonstore retailers',\n",
       "       '4542: Vending machine operators',\n",
       "       '45421: Vending machine operators',\n",
       "       '454210: Vending machine operators',\n",
       "       '4543: Direct selling establishments',\n",
       "       '45439: Other direct selling establishments',\n",
       "       '454390: Other direct selling establishments',\n",
       "       '44111: New car dealers', '441110: New car dealers',\n",
       "       '441222: Boat dealers', '44221: Floor covering stores',\n",
       "       '442210: Floor covering stores',\n",
       "       '443141: Household appliance stores', '44411: Home centers',\n",
       "       '444110: Home centers', '44412: Paint and wallpaper stores',\n",
       "       '444120: Paint and wallpaper stores',\n",
       "       '44422: Nursery, garden center, and farm supply stores',\n",
       "       '444220: Nursery, garden center, and farm supply stores',\n",
       "       '4452: Specialty food stores', '44521: Meat markets',\n",
       "       '445210: Meat markets', '44529: Other specialty food stores',\n",
       "       '445291: Baked goods stores',\n",
       "       '445292: Confectionery and nut stores',\n",
       "       '445299: All other specialty food stores',\n",
       "       '44613: Optical goods stores', '446130: Optical goods stores',\n",
       "       '446191: Food (health) supplement stores',\n",
       "       \"44811: Men's clothing stores\", \"448110: Men's clothing stores\",\n",
       "       \"44813: Children's and infants' clothing stores\",\n",
       "       \"448130: Children's and infants' clothing stores\",\n",
       "       '44819: Other clothing stores', '448190: Other clothing stores',\n",
       "       '4483: Jewelry, luggage, and leather goods stores',\n",
       "       '44831: Jewelry stores', '448310: Jewelry stores',\n",
       "       '45112: Hobby, toy, and game stores',\n",
       "       '451120: Hobby, toy, and game stores',\n",
       "       '45113: Sewing, needlework, and piece goods stores',\n",
       "       '451130: Sewing, needlework, and piece goods stores',\n",
       "       '452111: Department stores (except discount department stores)',\n",
       "       '45291: Warehouse clubs and supercenters',\n",
       "       '452910: Warehouse clubs and supercenters',\n",
       "       '45391: Pet and pet supplies stores',\n",
       "       '453910: Pet and pet supplies stores',\n",
       "       '45393: Manufactured (mobile) home dealers',\n",
       "       '453930: Manufactured (mobile) home dealers',\n",
       "       '453998: All other miscellaneous store retailers (except tobacco stores)',\n",
       "       '4541: Electronic shopping and mail-order houses',\n",
       "       '45411: Electronic shopping and mail-order houses',\n",
       "       '454111: Electronic shopping', '45431: Fuel dealers',\n",
       "       '454310: Fuel dealers', '44121: Recreational vehicle dealers',\n",
       "       '441210: Recreational vehicle dealers',\n",
       "       '454112: Electronic auctions', '454113: Mail-order houses',\n",
       "       '44523: Fruit and vegetable markets',\n",
       "       '445230: Fruit and vegetable markets',\n",
       "       '442291: Window treatment stores', '45392: Art dealers',\n",
       "       '453920: Art dealers', '451212: News dealers and newsstands',\n",
       "       '44522: Fish and seafood markets',\n",
       "       '445220: Fish and seafood markets',\n",
       "       '44832: Luggage and leather goods stores',\n",
       "       '448320: Luggage and leather goods stores'], dtype=object)"
      ]
     },
     "execution_count": 12,
     "metadata": {},
     "output_type": "execute_result"
    }
   ],
   "source": [
    "unique_industries = (sales_data[\"NAICS.id\"].astype(str) + \": \" + sales_data[\"NAICS.display-label\"].astype(str)).unique()\n",
    "unique_industries"
   ]
  },
  {
   "cell_type": "code",
   "execution_count": null,
   "metadata": {},
   "outputs": [],
   "source": []
  }
 ],
 "metadata": {
  "kernelspec": {
   "display_name": "Python 3",
   "language": "python",
   "name": "python3"
  },
  "language_info": {
   "codemirror_mode": {
    "name": "ipython",
    "version": 3
   },
   "file_extension": ".py",
   "mimetype": "text/x-python",
   "name": "python",
   "nbconvert_exporter": "python",
   "pygments_lexer": "ipython3",
   "version": "3.6.5"
  }
 },
 "nbformat": 4,
 "nbformat_minor": 2
}
